{
  "nbformat": 4,
  "nbformat_minor": 0,
  "metadata": {
    "colab": {
      "provenance": []
    },
    "kernelspec": {
      "name": "python3",
      "display_name": "Python 3"
    },
    "language_info": {
      "name": "python"
    }
  },
  "cells": [
    {
      "cell_type": "code",
      "source": [
        "import warnings\n",
        "\n",
        "# Disable warnings\n",
        "warnings.filterwarnings(\"ignore\")\n",
        "from sklearn.model_selection import GridSearchCV"
      ],
      "metadata": {
        "id": "5CQKWfUKiJde"
      },
      "execution_count": 10,
      "outputs": []
    },
    {
      "cell_type": "code",
      "execution_count": 10,
      "metadata": {
        "id": "EXnEGKighGhp"
      },
      "outputs": [],
      "source": [
        "from sklearn.ensemble import RandomForestClassifier\n",
        "from sklearn.metrics import accuracy_score\n",
        "from sklearn.model_selection import train_test_split\n",
        "from tensorflow.keras.datasets import mnist\n",
        "\n",
        "# Load the MNIST dataset\n",
        "(x_train, y_train), (x_test, y_test) = mnist.load_data()\n",
        "\n",
        "# Reshape the input data\n",
        "x_train = x_train.reshape(-1, 28*28)\n",
        "x_test = x_test.reshape(-1, 28*28)\n",
        "\n",
        "# Split the data into training and validation sets\n",
        "x_train, x_test, y_train, y_test = train_test_split(x_train, y_train, test_size=0.3, random_state=42)\n",
        "\n",
        "# Create and train the Random Forest model\n",
        "clf_rf = RandomForestClassifier(n_estimators=100, random_state=42)\n",
        "clf_rf.fit(x_train, y_train)\n",
        "\n",
        "# Make predictions on the validation set\n",
        "y_pred = clf_rf.predict(x_test)\n",
        "\n",
        "# Calculate the accuracy on the validation set\n",
        "val_accuracy = accuracy_score(y_test, y_pred)\n",
        "print(\"Validation Accuracy:\", val_accuracy)\n",
        "\n",
        "# Make predictions on the test set\n",
        "y_pred_test = clf_rf.predict(x_test)\n",
        "\n",
        "# Calculate the accuracy on the test set\n",
        "test_accuracy = accuracy_score(y_test, y_pred_test)\n",
        "print(\"Test Accuracy:\", test_accuracy)\n"
      ]
    },
    {
      "cell_type": "code",
      "source": [
        "if clf_rf.score(x_train, y_train) < clf_rf.score(x_test, y_test):\n",
        "  print(\"Overfit\")\n",
        "  print(\"Training Accuracy:\", clf_rf.score(x_train, y_train))\n",
        "  print(\"Test Accuracy:\", clf_rf.score(x_test, y_test))\n",
        "else:\n",
        "  print(\"Good Fit\")\n",
        "  print(\"Training Accuracy:\", clf_rf.score(x_train, y_train))\n",
        "  print(\"Test Accuracy:\", clf_rf.score(x_test, y_test))\n"
      ],
      "metadata": {
        "colab": {
          "base_uri": "https://localhost:8080/"
        },
        "id": "-nkB0xzphMOo",
        "outputId": "3ebdf383-8eac-4437-908a-7da139a4e0c3"
      },
      "execution_count": 4,
      "outputs": [
        {
          "output_type": "stream",
          "name": "stdout",
          "text": [
            "Good Fit\n",
            "Training Accuracy: 1.0\n",
            "Test Accuracy: 0.9665\n"
          ]
        }
      ]
    },
    {
      "cell_type": "code",
      "source": [],
      "metadata": {
        "id": "XLOPVDA2h21j"
      },
      "execution_count": null,
      "outputs": []
    },
    {
      "cell_type": "code",
      "source": [
        "from sklearn.ensemble import RandomForestClassifier\n",
        "from sklearn.model_selection import GridSearchCV\n",
        "from sklearn.metrics import accuracy_score\n",
        "from sklearn.model_selection import train_test_split\n",
        "from tensorflow.keras.datasets import mnist\n",
        "\n",
        "# Load the MNIST dataset\n",
        "(x_train, y_train), (x_test, y_test) = mnist.load_data()\n",
        "\n",
        "# Reshape the input data\n",
        "x_train = x_train.reshape(-1, 28*28)\n",
        "x_test = x_test.reshape(-1, 28*28)\n",
        "\n",
        "# Split the data into training and validation sets\n",
        "x_train, x_test, y_train, y_test = train_test_split(x_train, y_train, test_size=0.3, random_state=42)\n",
        "\n",
        "# Define the parameter grid\n",
        "param_grid = {\n",
        "    'n_estimators': [100, 200, 300],\n",
        "    'max_depth': [5, 10, 15],\n",
        "    'min_samples_split': [2, 5, 10]\n",
        "}\n",
        "\n",
        "# Create the Random Forest model\n",
        "rf_model = RandomForestClassifier(random_state=42)\n",
        "\n",
        "# Perform grid search\n",
        "grid_search = GridSearchCV(estimator=rf_model, param_grid=param_grid, cv=3)\n",
        "grid_search.fit(x_train, y_train)\n",
        "\n",
        "# Get the best model and its parameters\n",
        "best_model = grid_search.best_estimator_\n",
        "best_params = grid_search.best_params_\n",
        "\n",
        "\n",
        "# Make predictions on the validation set\n",
        "y_pred = clf_rf.predict(x_test)\n",
        "\n",
        "# Calculate the accuracy on the validation set\n",
        "val_accuracy = accuracy_score(y_test, y_pred)\n",
        "print(\"Validation Accuracy:\", val_accuracy)\n",
        "\n",
        "# Make predictions on the test set\n",
        "y_pred_test = clf_rf.predict(x_test)\n",
        "\n",
        "# Calculate the accuracy on the test set\n",
        "test_accuracy = accuracy_score(y_test, y_pred_test)\n",
        "print(\"Test Accuracy:\", test_accuracy)\n"
      ],
      "metadata": {
        "id": "n4t-usjcinD_"
      },
      "execution_count": null,
      "outputs": []
    }
  ]
}